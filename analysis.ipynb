{
 "cells": [
  {
   "cell_type": "markdown",
   "metadata": {},
   "source": [
    "# BitsxLaMarato | linies de la vida amb IA"
   ]
  },
  {
   "cell_type": "code",
   "execution_count": 5,
   "metadata": {},
   "outputs": [],
   "source": [
    "from pdf2image import convert_from_path\n",
    "import pytesseract\n",
    "import cv2\n",
    "import fitz\n",
    "from PIL import Image"
   ]
  },
  {
   "cell_type": "code",
   "execution_count": 4,
   "metadata": {},
   "outputs": [],
   "source": [
    "def extract_images_from_pdf(pdf_path, output_folder):\n",
    "    pdf_document = fitz.open(pdf_path)\n",
    "\n",
    "    for page_num in range(pdf_document.page_count):\n",
    "        page = pdf_document.load_page(page_num)\n",
    "        images = page.get_images(full=True)\n",
    "        \n",
    "        for img_index, img_info in enumerate(images):\n",
    "            xref = img_info[0]\n",
    "            base_image = pdf_document.extract_image(xref)\n",
    "            image_bytes = base_image[\"image\"]\n",
    "            \n",
    "            img_filename = f\"{output_folder}/page{page_num + 1}_img{img_index + 1}.png\"\n",
    "            with open(img_filename, \"wb\") as img_file:\n",
    "                img_file.write(image_bytes)\n",
    "\n",
    "    pdf_document.close()\n",
    "\n",
    "# List of PDF file names\n",
    "pdf_files = [\"RCTG_1.pdf\", \"RCTG_2.pdf\", \"RCTG_3.pdf\", \"RCTG_6.pdf\", \"RCTG_7_.pdf\", \"RCTG_8.pdf\"]\n",
    "\n",
    "# Folder to save extracted images (change this to your desired folder path)\n",
    "output_folder_path = \"extracted_images\"\n",
    "\n",
    "# Iterate through each PDF file and extract images\n",
    "for pdf_file in pdf_files:\n",
    "    pdf_path = f\"pdf_files/{pdf_file}\"  # Replace with correct path\n",
    "    extract_images_from_pdf(pdf_path, output_folder_path)"
   ]
  }
 ],
 "metadata": {
  "kernelspec": {
   "display_name": "base",
   "language": "python",
   "name": "python3"
  },
  "language_info": {
   "codemirror_mode": {
    "name": "ipython",
    "version": 3
   },
   "file_extension": ".py",
   "mimetype": "text/x-python",
   "name": "python",
   "nbconvert_exporter": "python",
   "pygments_lexer": "ipython3",
   "version": "3.10.9"
  }
 },
 "nbformat": 4,
 "nbformat_minor": 2
}
