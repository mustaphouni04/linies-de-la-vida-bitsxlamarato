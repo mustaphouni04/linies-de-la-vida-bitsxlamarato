{
 "cells": [
  {
   "cell_type": "markdown",
   "metadata": {},
   "source": [
    "# BitsxLaMarato | linies de la vida amb IA"
   ]
  },
  {
   "cell_type": "code",
   "execution_count": 1,
   "metadata": {},
   "outputs": [],
   "source": [
    "from pdf2image import convert_from_path\n",
    "import pytesseract\n",
    "import cv2\n",
    "import fitz\n",
    "from PIL import Image"
   ]
  },
  {
   "cell_type": "code",
   "execution_count": 3,
   "metadata": {},
   "outputs": [],
   "source": [
    "def extract_pages_as_images(pdf_path, output_folder):\n",
    "    pdf_document = fitz.open(pdf_path)\n",
    "\n",
    "    for page_num in range(pdf_document.page_count):\n",
    "        page = pdf_document.load_page(page_num)\n",
    "        image_list = page.get_pixmap(alpha=False)\n",
    "\n",
    "        img_filename = f\"{output_folder}/page{page_num + 1}.png\"\n",
    "        image_list.save(img_filename)\n",
    "\n",
    "    pdf_document.close()\n",
    "\n",
    "# List of PDF file names\n",
    "pdf_files = [\"RCTG_1.pdf\", \"RCTG_2.pdf\", \"RCTG_3.pdf\", \"RCTG_6.pdf\", \"RCTG_7_.pdf\", \"RCTG_8.pdf\"]\n",
    "\n",
    "# Folder to save extracted images\n",
    "output_folder_path = \"extracted_images\"\n",
    "\n",
    "# Iterate through each PDF file and extract images\n",
    "for pdf_file in pdf_files:\n",
    "    pdf_path = f\"pdf_files/{pdf_file}\"\n",
    "    extract_pages_as_images(pdf_path, output_folder_path)"
   ]
  }
 ],
 "metadata": {
  "kernelspec": {
   "display_name": "base",
   "language": "python",
   "name": "python3"
  },
  "language_info": {
   "codemirror_mode": {
    "name": "ipython",
    "version": 3
   },
   "file_extension": ".py",
   "mimetype": "text/x-python",
   "name": "python",
   "nbconvert_exporter": "python",
   "pygments_lexer": "ipython3",
   "version": "3.10.9"
  }
 },
 "nbformat": 4,
 "nbformat_minor": 2
}
